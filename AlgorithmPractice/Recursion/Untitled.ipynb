{
 "cells": [
  {
   "cell_type": "code",
   "execution_count": 3,
   "metadata": {},
   "outputs": [],
   "source": [
    "def RevS(s):\n",
    "    l = len(s)\n",
    "    if l >=1:\n",
    "        print(s[l-1])\n",
    "    return RevS(s[:l-1])\n"
   ]
  },
  {
   "cell_type": "code",
   "execution_count": 4,
   "metadata": {},
   "outputs": [
    {
     "name": "stdout",
     "output_type": "stream",
     "text": [
      "deepak\n",
      "k\n",
      "a\n",
      "p\n",
      "e\n",
      "e\n",
      "d\n"
     ]
    },
    {
     "ename": "RecursionError",
     "evalue": "maximum recursion depth exceeded in comparison",
     "output_type": "error",
     "traceback": [
      "\u001b[1;31m---------------------------------------------------------------------------\u001b[0m",
      "\u001b[1;31mRecursionError\u001b[0m                            Traceback (most recent call last)",
      "\u001b[1;32m<ipython-input-4-2d0694b1d444>\u001b[0m in \u001b[0;36m<module>\u001b[1;34m()\u001b[0m\n\u001b[0;32m      1\u001b[0m \u001b[0ms\u001b[0m \u001b[1;33m=\u001b[0m \u001b[0minput\u001b[0m\u001b[1;33m(\u001b[0m\u001b[1;33m)\u001b[0m\u001b[1;33m\u001b[0m\u001b[0m\n\u001b[1;32m----> 2\u001b[1;33m \u001b[0mRevS\u001b[0m\u001b[1;33m(\u001b[0m\u001b[0ms\u001b[0m\u001b[1;33m)\u001b[0m\u001b[1;33m\u001b[0m\u001b[0m\n\u001b[0m",
      "\u001b[1;32m<ipython-input-3-5a51803c19b1>\u001b[0m in \u001b[0;36mRevS\u001b[1;34m(s)\u001b[0m\n\u001b[0;32m      3\u001b[0m     \u001b[1;32mif\u001b[0m \u001b[0ml\u001b[0m \u001b[1;33m>=\u001b[0m\u001b[1;36m1\u001b[0m\u001b[1;33m:\u001b[0m\u001b[1;33m\u001b[0m\u001b[0m\n\u001b[0;32m      4\u001b[0m         \u001b[0mprint\u001b[0m\u001b[1;33m(\u001b[0m\u001b[0ms\u001b[0m\u001b[1;33m[\u001b[0m\u001b[0ml\u001b[0m\u001b[1;33m-\u001b[0m\u001b[1;36m1\u001b[0m\u001b[1;33m]\u001b[0m\u001b[1;33m)\u001b[0m\u001b[1;33m\u001b[0m\u001b[0m\n\u001b[1;32m----> 5\u001b[1;33m     \u001b[1;32mreturn\u001b[0m \u001b[0mRevS\u001b[0m\u001b[1;33m(\u001b[0m\u001b[0ms\u001b[0m\u001b[1;33m[\u001b[0m\u001b[1;33m:\u001b[0m\u001b[0ml\u001b[0m\u001b[1;33m-\u001b[0m\u001b[1;36m1\u001b[0m\u001b[1;33m]\u001b[0m\u001b[1;33m)\u001b[0m\u001b[1;33m\u001b[0m\u001b[0m\n\u001b[0m",
      "... last 1 frames repeated, from the frame below ...\n",
      "\u001b[1;32m<ipython-input-3-5a51803c19b1>\u001b[0m in \u001b[0;36mRevS\u001b[1;34m(s)\u001b[0m\n\u001b[0;32m      3\u001b[0m     \u001b[1;32mif\u001b[0m \u001b[0ml\u001b[0m \u001b[1;33m>=\u001b[0m\u001b[1;36m1\u001b[0m\u001b[1;33m:\u001b[0m\u001b[1;33m\u001b[0m\u001b[0m\n\u001b[0;32m      4\u001b[0m         \u001b[0mprint\u001b[0m\u001b[1;33m(\u001b[0m\u001b[0ms\u001b[0m\u001b[1;33m[\u001b[0m\u001b[0ml\u001b[0m\u001b[1;33m-\u001b[0m\u001b[1;36m1\u001b[0m\u001b[1;33m]\u001b[0m\u001b[1;33m)\u001b[0m\u001b[1;33m\u001b[0m\u001b[0m\n\u001b[1;32m----> 5\u001b[1;33m     \u001b[1;32mreturn\u001b[0m \u001b[0mRevS\u001b[0m\u001b[1;33m(\u001b[0m\u001b[0ms\u001b[0m\u001b[1;33m[\u001b[0m\u001b[1;33m:\u001b[0m\u001b[0ml\u001b[0m\u001b[1;33m-\u001b[0m\u001b[1;36m1\u001b[0m\u001b[1;33m]\u001b[0m\u001b[1;33m)\u001b[0m\u001b[1;33m\u001b[0m\u001b[0m\n\u001b[0m",
      "\u001b[1;31mRecursionError\u001b[0m: maximum recursion depth exceeded in comparison"
     ]
    }
   ],
   "source": [
    "s = input()\n",
    "RevS(s)"
   ]
  },
  {
   "cell_type": "markdown",
   "metadata": {},
   "source": [
    "## MatrixFill"
   ]
  },
  {
   "cell_type": "code",
   "execution_count": 5,
   "metadata": {
    "collapsed": true
   },
   "outputs": [],
   "source": [
    "def matrixFill(mat,row,column,toFill,prevFill):\n",
    "    r = len(mat)\n",
    "    c = len(mat[0])\n",
    "    if row<0 or row> r or column <0 or column>c:\n",
    "        return\n",
    "    if toFill != prevFill:\n",
    "        return\n",
    "    mat[r][c] = toFill\n",
    "    matrixFill(mat, r, c-1, toFill, prevFill)\n",
    "    matrixFill(mat, r, c+1, toFill, prevFill)\n",
    "    matrixFill(mat, r-1, c, toFill, prevFill)\n",
    "    matrixFill(mat, r+1, c, toFill, prevFill)"
   ]
  },
  {
   "cell_type": "code",
   "execution_count": 8,
   "metadata": {
    "collapsed": true
   },
   "outputs": [],
   "source": [
    "'''\n",
    "def  fun1(n): \n",
    "    i = 0 \n",
    "    if (n > 1): \n",
    "        fun1(n - 1)  \n",
    "    for i in range(n): \n",
    "        print(\" * \",end=\"\")\n",
    "        print()\n",
    "'''"
   ]
  },
  {
   "cell_type": "code",
   "execution_count": null,
   "metadata": {
    "collapsed": true
   },
   "outputs": [],
   "source": []
  },
  {
   "cell_type": "markdown",
   "metadata": {},
   "source": [
    "# Divide and Conquer\n",
    "## MergeSort"
   ]
  },
  {
   "cell_type": "code",
   "execution_count": 16,
   "metadata": {
    "collapsed": true
   },
   "outputs": [],
   "source": [
    "def MergeSort(nums):\n",
    "    if len(nums) <= 1:\n",
    "        return nums\n",
    "    pivot = len(nums)//2\n",
    "    left_list = nums[:pivot]\n",
    "    right_list = nums[pivot:]\n",
    "    l = MergeSort(left_list)\n",
    "    r = MergeSort(right_list)\n",
    "    return Merge(l,r)\n",
    "def Merge(l,r):\n",
    "    res = []\n",
    "    left_cursor = right_cursor = 0\n",
    "    while left_cursor < len(l) and right_cursor< len(r):\n",
    "        if l[left_cursor]<r[right_cursor]:\n",
    "            res.append(l[left_cursor])\n",
    "            left_cursor+=1\n",
    "        else:\n",
    "            res.append(r[right_cursor])\n",
    "            right_cursor+=1\n",
    "    res.extend(l[left_cursor:])\n",
    "    res.extend(r[right_cursor:])\n",
    "    return res\n",
    "    "
   ]
  },
  {
   "cell_type": "code",
   "execution_count": 25,
   "metadata": {
    "collapsed": true
   },
   "outputs": [],
   "source": [
    "nums = [2,4,1,5,2,6,9,7]"
   ]
  },
  {
   "cell_type": "code",
   "execution_count": 18,
   "metadata": {},
   "outputs": [
    {
     "data": {
      "text/plain": [
       "[1, 2, 2, 4, 5, 6, 7, 9]"
      ]
     },
     "execution_count": 18,
     "metadata": {},
     "output_type": "execute_result"
    }
   ],
   "source": [
    "MergeSort(nums)"
   ]
  },
  {
   "cell_type": "markdown",
   "metadata": {},
   "source": [
    "## Template for Merge Sort"
   ]
  },
  {
   "cell_type": "code",
   "execution_count": 19,
   "metadata": {},
   "outputs": [
    {
     "ename": "SyntaxError",
     "evalue": "invalid syntax (<ipython-input-19-32b7387a83df>, line 3)",
     "output_type": "error",
     "traceback": [
      "\u001b[1;36m  File \u001b[1;32m\"<ipython-input-19-32b7387a83df>\"\u001b[1;36m, line \u001b[1;32m3\u001b[0m\n\u001b[1;33m    [S1, S2, ... Sn] = divide(S)\u001b[0m\n\u001b[1;37m                  ^\u001b[0m\n\u001b[1;31mSyntaxError\u001b[0m\u001b[1;31m:\u001b[0m invalid syntax\n"
     ]
    }
   ],
   "source": [
    "def divide_and_conquer( S ):\n",
    "    # (1). Divide the problem into a set of subproblems.\n",
    "    [S1, S2, ... Sn] = divide(S)\n",
    "\n",
    "    # (2). Solve the subproblem recursively,\n",
    "    #   obtain the results of subproblems as [R1, R2... Rn].\n",
    "    rets = [divide_and_conquer(Si) for Si in [S1, S2, ... Sn]]\n",
    "    [R1, R2,... Rn] = rets\n",
    "\n",
    "    # (3). combine the results from the subproblems.\n",
    "    #   and return the combined result.\n",
    "    return combine([R1, R2,... Rn])"
   ]
  },
  {
   "cell_type": "markdown",
   "metadata": {},
   "source": [
    "## Quick Sort"
   ]
  },
  {
   "cell_type": "code",
   "execution_count": 22,
   "metadata": {
    "collapsed": true
   },
   "outputs": [],
   "source": [
    "def sorting(lst):\n",
    "    high = len(lst)-1\n",
    "    quickSort(lst,0,high)\n",
    "def quickSort(lst,l,r):\n",
    "    if l<r:\n",
    "        p = partition(lst,l,r) # getting the index of pivot\n",
    "        quickSort(lst,l,p-1) # dividing the array \n",
    "        quickSort(lst,p+1,r)\n",
    "def partition(lst,low,high): #partition of array i.e. placing the pivot at its right place\n",
    "    i = low                  \n",
    "    pivot = lst[high]        # setting pivot as high    \n",
    "    for j in range(low,high):\n",
    "        if lst[j]<pivot:                           #if pivot is greater than the current value in array swap the values at i and j\n",
    "            lst[i] , lst[j] = lst[j], lst[i]       # wwhat we are doing here is putting every smaller value than pivot to the i'th index  \n",
    "            i+=1\n",
    "    lst[i], lst[high] = lst[high], lst[i]          # in the end we are repalceing i with the pivot which is its correct value\n",
    "    return i\n",
    "    "
   ]
  },
  {
   "cell_type": "code",
   "execution_count": 27,
   "metadata": {},
   "outputs": [],
   "source": [
    "sorting(nums)"
   ]
  },
  {
   "cell_type": "code",
   "execution_count": 28,
   "metadata": {},
   "outputs": [
    {
     "data": {
      "text/plain": [
       "[1, 2, 2, 4, 5, 6, 7, 9]"
      ]
     },
     "execution_count": 28,
     "metadata": {},
     "output_type": "execute_result"
    }
   ],
   "source": [
    "nums"
   ]
  },
  {
   "cell_type": "code",
   "execution_count": null,
   "metadata": {
    "collapsed": true
   },
   "outputs": [],
   "source": []
  }
 ],
 "metadata": {
  "kernelspec": {
   "display_name": "Python 3",
   "language": "python",
   "name": "python3"
  },
  "language_info": {
   "codemirror_mode": {
    "name": "ipython",
    "version": 3
   },
   "file_extension": ".py",
   "mimetype": "text/x-python",
   "name": "python",
   "nbconvert_exporter": "python",
   "pygments_lexer": "ipython3",
   "version": "3.6.3"
  }
 },
 "nbformat": 4,
 "nbformat_minor": 2
}
