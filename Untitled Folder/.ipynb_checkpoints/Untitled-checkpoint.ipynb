{
 "cells": [
  {
   "cell_type": "code",
   "execution_count": 4,
   "metadata": {},
   "outputs": [
    {
     "name": "stdout",
     "output_type": "stream",
     "text": [
      "5\n",
      "2\n",
      "0\n",
      "5\n",
      "2\n",
      "1\n",
      "0\n",
      "8\n",
      "0\n",
      "9\n",
      "4\n"
     ]
    }
   ],
   "source": [
    "# cook your dish here\n",
    "try:\n",
    "    for i in range(int(input())):\n",
    "        #n,k =map(int,input().split())\n",
    "        ts = int(input())\n",
    "        def TomJerry(ts):\n",
    "            js = []\n",
    "            i = 0\n",
    "            while i < ts-1:\n",
    "                i+=2\n",
    "                js.append(i)\n",
    "            if ts == 1 or ts == 2:\n",
    "                return 0\n",
    "            \n",
    "            if ts%2 == 0:\n",
    "                return TomJerry(ts//2)\n",
    "            elif ts%2 != 0:\n",
    "                return len(js)\n",
    "        print(TomJerry(ts))\n",
    "        \n",
    "except:\n",
    "    pass"
   ]
  },
  {
   "cell_type": "code",
   "execution_count": null,
   "metadata": {
    "collapsed": true
   },
   "outputs": [],
   "source": [
    "for i in range(int(input())):\n",
    "        #n,k =map(int,input().split())\n",
    "        ts = int(input())\n",
    "        def TomJerry(ts):\n",
    "            js = []\n",
    "            i = 0\n",
    "            while i < ts-1:\n",
    "                i+=2\n",
    "                js.append(i)\n",
    "            if ts == 1 or ts == 2:\n",
    "                return 0"
   ]
  },
  {
   "cell_type": "code",
   "execution_count": null,
   "metadata": {
    "collapsed": true
   },
   "outputs": [],
   "source": [
    "import math\n",
    "if math.log(ts,)"
   ]
  },
  {
   "cell_type": "code",
   "execution_count": null,
   "metadata": {},
   "outputs": [
    {
     "name": "stdout",
     "output_type": "stream",
     "text": [
      "4\n"
     ]
    }
   ],
   "source": [
    "n = int(input())\n",
    "s=[]\n",
    "i = 1\n",
    "if n%2 == 0:\n",
    "    while i <= n**2:\n",
    "        s.append(i)\n",
    "        i+=1\n",
    "        "
   ]
  },
  {
   "cell_type": "code",
   "execution_count": null,
   "metadata": {
    "collapsed": true
   },
   "outputs": [],
   "source": [
    "s"
   ]
  },
  {
   "cell_type": "code",
   "execution_count": null,
   "metadata": {
    "collapsed": true
   },
   "outputs": [],
   "source": []
  }
 ],
 "metadata": {
  "kernelspec": {
   "display_name": "Python 3",
   "language": "python",
   "name": "python3"
  },
  "language_info": {
   "codemirror_mode": {
    "name": "ipython",
    "version": 3
   },
   "file_extension": ".py",
   "mimetype": "text/x-python",
   "name": "python",
   "nbconvert_exporter": "python",
   "pygments_lexer": "ipython3",
   "version": "3.6.3"
  }
 },
 "nbformat": 4,
 "nbformat_minor": 2
}
